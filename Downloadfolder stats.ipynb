{
 "cells": [
  {
   "cell_type": "markdown",
   "metadata": {},
   "source": [
    "# Download Folder analytics\n",
    "\n",
    "Getting data from my Download folder, an overview and get a clue how to declutter.\n",
    "\n"
   ]
  },
  {
   "cell_type": "code",
   "execution_count": null,
   "metadata": {},
   "outputs": [],
   "source": [
    "### in case modules are not installed\n",
    "pip install folderstats\n",
    "pip install matplotlib\n",
    "pip install squarify"
   ]
  },
  {
   "cell_type": "code",
   "execution_count": 1,
   "metadata": {},
   "outputs": [],
   "source": [
    "import folderstats\n",
    "import os\n",
    "import pandas"
   ]
  },
  {
   "cell_type": "code",
   "execution_count": 2,
   "metadata": {},
   "outputs": [],
   "source": [
    "def get_download_path():\n",
    "    \"\"\"Returns the default downloads path for linux or windows\"\"\"\n",
    "    if os.name == 'nt':\n",
    "        import winreg\n",
    "        sub_key = r'SOFTWARE\\Microsoft\\Windows\\CurrentVersion\\Explorer\\Shell Folders'\n",
    "        downloads_guid = '{374DE290-123F-4565-9164-39C4925E467B}'\n",
    "        with winreg.OpenKey(winreg.HKEY_CURRENT_USER, sub_key) as key:\n",
    "            location = winreg.QueryValueEx(key, downloads_guid)[0]\n",
    "        return location\n",
    "    else:\n",
    "        return os.path.join(os.path.expanduser('~'), 'downloads')\n",
    "    \n",
    "dlfolder = get_download_path()"
   ]
  },
  {
   "cell_type": "code",
   "execution_count": 3,
   "metadata": {},
   "outputs": [
    {
     "data": {
      "text/html": [
       "<div>\n",
       "<style scoped>\n",
       "    .dataframe tbody tr th:only-of-type {\n",
       "        vertical-align: middle;\n",
       "    }\n",
       "\n",
       "    .dataframe tbody tr th {\n",
       "        vertical-align: top;\n",
       "    }\n",
       "\n",
       "    .dataframe thead th {\n",
       "        text-align: right;\n",
       "    }\n",
       "</style>\n",
       "<table border=\"1\" class=\"dataframe\">\n",
       "  <thead>\n",
       "    <tr style=\"text-align: right;\">\n",
       "      <th></th>\n",
       "      <th>id</th>\n",
       "      <th>path</th>\n",
       "      <th>name</th>\n",
       "      <th>extension</th>\n",
       "      <th>size</th>\n",
       "      <th>sizekB</th>\n",
       "      <th>sizeMB</th>\n",
       "      <th>atime</th>\n",
       "      <th>mtime</th>\n",
       "      <th>ctime</th>\n",
       "      <th>notAcc_since_dl</th>\n",
       "      <th>folder</th>\n",
       "      <th>num_files</th>\n",
       "      <th>depth</th>\n",
       "      <th>parent</th>\n",
       "      <th>uid</th>\n",
       "    </tr>\n",
       "  </thead>\n",
       "  <tbody>\n",
       "    <tr>\n",
       "      <th>0</th>\n",
       "      <td>2</td>\n",
       "      <td>C:\\Users\\Seb\\Downloads\\0.jpg</td>\n",
       "      <td>0</td>\n",
       "      <td>jpg</td>\n",
       "      <td>71634</td>\n",
       "      <td>69.96</td>\n",
       "      <td>0.07</td>\n",
       "      <td>2019-06-04</td>\n",
       "      <td>2019-06-04</td>\n",
       "      <td>2019-06-04</td>\n",
       "      <td>True</td>\n",
       "      <td>False</td>\n",
       "      <td>NaN</td>\n",
       "      <td>0</td>\n",
       "      <td>1</td>\n",
       "      <td>0</td>\n",
       "    </tr>\n",
       "    <tr>\n",
       "      <th>1</th>\n",
       "      <td>3</td>\n",
       "      <td>C:\\Users\\Seb\\Downloads\\00100dPORTRAIT_00100_BU...</td>\n",
       "      <td>00100dPORTRAIT_00100_BURST20180512001050519_COVER</td>\n",
       "      <td>jpg</td>\n",
       "      <td>2154733</td>\n",
       "      <td>2104.23</td>\n",
       "      <td>2.05</td>\n",
       "      <td>2018-05-12</td>\n",
       "      <td>2018-05-12</td>\n",
       "      <td>2018-05-12</td>\n",
       "      <td>True</td>\n",
       "      <td>False</td>\n",
       "      <td>NaN</td>\n",
       "      <td>0</td>\n",
       "      <td>1</td>\n",
       "      <td>0</td>\n",
       "    </tr>\n",
       "    <tr>\n",
       "      <th>2</th>\n",
       "      <td>4</td>\n",
       "      <td>C:\\Users\\Seb\\Downloads\\00100dPORTRAIT_00100_BU...</td>\n",
       "      <td>00100dPORTRAIT_00100_BURST20180908135737823_COVER</td>\n",
       "      <td>jpg</td>\n",
       "      <td>2522712</td>\n",
       "      <td>2463.59</td>\n",
       "      <td>2.41</td>\n",
       "      <td>2018-09-08</td>\n",
       "      <td>2018-09-08</td>\n",
       "      <td>2018-09-08</td>\n",
       "      <td>True</td>\n",
       "      <td>False</td>\n",
       "      <td>NaN</td>\n",
       "      <td>0</td>\n",
       "      <td>1</td>\n",
       "      <td>0</td>\n",
       "    </tr>\n",
       "    <tr>\n",
       "      <th>3</th>\n",
       "      <td>5</td>\n",
       "      <td>C:\\Users\\Seb\\Downloads\\00100dPORTRAIT_00100_BU...</td>\n",
       "      <td>00100dPORTRAIT_00100_BURST20180908135737823_CO...</td>\n",
       "      <td>jpg</td>\n",
       "      <td>723047</td>\n",
       "      <td>706.10</td>\n",
       "      <td>0.69</td>\n",
       "      <td>2018-09-08</td>\n",
       "      <td>2018-09-08</td>\n",
       "      <td>2018-09-08</td>\n",
       "      <td>True</td>\n",
       "      <td>False</td>\n",
       "      <td>NaN</td>\n",
       "      <td>0</td>\n",
       "      <td>1</td>\n",
       "      <td>0</td>\n",
       "    </tr>\n",
       "    <tr>\n",
       "      <th>4</th>\n",
       "      <td>6</td>\n",
       "      <td>C:\\Users\\Seb\\Downloads\\00100dPORTRAIT_00100_BU...</td>\n",
       "      <td>00100dPORTRAIT_00100_BURST20190204234941434_COVER</td>\n",
       "      <td>jpg</td>\n",
       "      <td>5347533</td>\n",
       "      <td>5222.20</td>\n",
       "      <td>5.10</td>\n",
       "      <td>2019-07-13</td>\n",
       "      <td>2019-07-13</td>\n",
       "      <td>2019-07-13</td>\n",
       "      <td>True</td>\n",
       "      <td>False</td>\n",
       "      <td>NaN</td>\n",
       "      <td>0</td>\n",
       "      <td>1</td>\n",
       "      <td>0</td>\n",
       "    </tr>\n",
       "  </tbody>\n",
       "</table>\n",
       "</div>"
      ],
      "text/plain": [
       "   id                                               path  \\\n",
       "0   2                       C:\\Users\\Seb\\Downloads\\0.jpg   \n",
       "1   3  C:\\Users\\Seb\\Downloads\\00100dPORTRAIT_00100_BU...   \n",
       "2   4  C:\\Users\\Seb\\Downloads\\00100dPORTRAIT_00100_BU...   \n",
       "3   5  C:\\Users\\Seb\\Downloads\\00100dPORTRAIT_00100_BU...   \n",
       "4   6  C:\\Users\\Seb\\Downloads\\00100dPORTRAIT_00100_BU...   \n",
       "\n",
       "                                                name extension     size  \\\n",
       "0                                                  0       jpg    71634   \n",
       "1  00100dPORTRAIT_00100_BURST20180512001050519_COVER       jpg  2154733   \n",
       "2  00100dPORTRAIT_00100_BURST20180908135737823_COVER       jpg  2522712   \n",
       "3  00100dPORTRAIT_00100_BURST20180908135737823_CO...       jpg   723047   \n",
       "4  00100dPORTRAIT_00100_BURST20190204234941434_COVER       jpg  5347533   \n",
       "\n",
       "    sizekB  sizeMB       atime       mtime       ctime  notAcc_since_dl  \\\n",
       "0    69.96    0.07  2019-06-04  2019-06-04  2019-06-04             True   \n",
       "1  2104.23    2.05  2018-05-12  2018-05-12  2018-05-12             True   \n",
       "2  2463.59    2.41  2018-09-08  2018-09-08  2018-09-08             True   \n",
       "3   706.10    0.69  2018-09-08  2018-09-08  2018-09-08             True   \n",
       "4  5222.20    5.10  2019-07-13  2019-07-13  2019-07-13             True   \n",
       "\n",
       "   folder  num_files  depth  parent  uid  \n",
       "0   False        NaN      0       1    0  \n",
       "1   False        NaN      0       1    0  \n",
       "2   False        NaN      0       1    0  \n",
       "3   False        NaN      0       1    0  \n",
       "4   False        NaN      0       1    0  "
      ]
     },
     "execution_count": 3,
     "metadata": {},
     "output_type": "execute_result"
    }
   ],
   "source": [
    "#create dataframe from files in \"Download\" folder\n",
    "df = folderstats.folderstats(dlfolder, ignore_hidden=True)\n",
    "#Add more readable size in kB and MB\n",
    "df.insert(5, \"sizeMB\", round((df['size']/1024/1024),2), True)\n",
    "df.insert(5, \"sizekB\", round((df['size']/1024),2), True)\n",
    "#Convert access time, modification time and creation time to date format from datetime format\n",
    "df['atime'] = df['atime'].dt.date\n",
    "df['mtime'] = df['mtime'].dt.date\n",
    "df['ctime'] = df['ctime'].dt.date\n",
    "#Add indicator if file was not accessed since download date\n",
    "df.insert(10, \"notAcc_since_dl\", df['atime'] == (df['ctime']), True)\n",
    "#df.insert(10, \"notAcc_since_dl\", df['atime'].equals(df['ctime']), True)\n",
    "#df.sort_values('size', ascending=False).head()\n",
    "df.head()"
   ]
  },
  {
   "cell_type": "code",
   "execution_count": 4,
   "metadata": {},
   "outputs": [
    {
     "data": {
      "text/html": [
       "<div>\n",
       "<style scoped>\n",
       "    .dataframe tbody tr th:only-of-type {\n",
       "        vertical-align: middle;\n",
       "    }\n",
       "\n",
       "    .dataframe tbody tr th {\n",
       "        vertical-align: top;\n",
       "    }\n",
       "\n",
       "    .dataframe thead th {\n",
       "        text-align: right;\n",
       "    }\n",
       "</style>\n",
       "<table border=\"1\" class=\"dataframe\">\n",
       "  <thead>\n",
       "    <tr style=\"text-align: right;\">\n",
       "      <th></th>\n",
       "      <th>id</th>\n",
       "      <th>size</th>\n",
       "      <th>sizekB</th>\n",
       "      <th>sizeMB</th>\n",
       "      <th>num_files</th>\n",
       "      <th>depth</th>\n",
       "      <th>parent</th>\n",
       "      <th>uid</th>\n",
       "    </tr>\n",
       "  </thead>\n",
       "  <tbody>\n",
       "    <tr>\n",
       "      <th>count</th>\n",
       "      <td>10444.00000</td>\n",
       "      <td>1.044400e+04</td>\n",
       "      <td>1.044400e+04</td>\n",
       "      <td>10444.000000</td>\n",
       "      <td>633.000000</td>\n",
       "      <td>10444.000000</td>\n",
       "      <td>10444.000000</td>\n",
       "      <td>10444.0</td>\n",
       "    </tr>\n",
       "    <tr>\n",
       "      <th>mean</th>\n",
       "      <td>5222.50000</td>\n",
       "      <td>1.868874e+07</td>\n",
       "      <td>1.825073e+04</td>\n",
       "      <td>17.822562</td>\n",
       "      <td>72.707741</td>\n",
       "      <td>3.690636</td>\n",
       "      <td>4958.769245</td>\n",
       "      <td>0.0</td>\n",
       "    </tr>\n",
       "    <tr>\n",
       "      <th>std</th>\n",
       "      <td>3015.06744</td>\n",
       "      <td>7.850618e+08</td>\n",
       "      <td>7.666620e+05</td>\n",
       "      <td>748.693384</td>\n",
       "      <td>501.356853</td>\n",
       "      <td>1.509885</td>\n",
       "      <td>3143.742944</td>\n",
       "      <td>0.0</td>\n",
       "    </tr>\n",
       "    <tr>\n",
       "      <th>min</th>\n",
       "      <td>1.00000</td>\n",
       "      <td>0.000000e+00</td>\n",
       "      <td>0.000000e+00</td>\n",
       "      <td>0.000000</td>\n",
       "      <td>0.000000</td>\n",
       "      <td>0.000000</td>\n",
       "      <td>0.000000</td>\n",
       "      <td>0.0</td>\n",
       "    </tr>\n",
       "    <tr>\n",
       "      <th>25%</th>\n",
       "      <td>2611.75000</td>\n",
       "      <td>1.083000e+03</td>\n",
       "      <td>1.060000e+00</td>\n",
       "      <td>0.000000</td>\n",
       "      <td>2.000000</td>\n",
       "      <td>3.000000</td>\n",
       "      <td>2208.000000</td>\n",
       "      <td>0.0</td>\n",
       "    </tr>\n",
       "    <tr>\n",
       "      <th>50%</th>\n",
       "      <td>5222.50000</td>\n",
       "      <td>3.196000e+03</td>\n",
       "      <td>3.120000e+00</td>\n",
       "      <td>0.000000</td>\n",
       "      <td>9.000000</td>\n",
       "      <td>4.000000</td>\n",
       "      <td>5106.000000</td>\n",
       "      <td>0.0</td>\n",
       "    </tr>\n",
       "    <tr>\n",
       "      <th>75%</th>\n",
       "      <td>7833.25000</td>\n",
       "      <td>3.114400e+04</td>\n",
       "      <td>3.041000e+01</td>\n",
       "      <td>0.030000</td>\n",
       "      <td>31.000000</td>\n",
       "      <td>4.000000</td>\n",
       "      <td>7650.000000</td>\n",
       "      <td>0.0</td>\n",
       "    </tr>\n",
       "    <tr>\n",
       "      <th>max</th>\n",
       "      <td>10444.00000</td>\n",
       "      <td>7.120497e+10</td>\n",
       "      <td>6.953610e+07</td>\n",
       "      <td>67906.350000</td>\n",
       "      <td>9811.000000</td>\n",
       "      <td>7.000000</td>\n",
       "      <td>10298.000000</td>\n",
       "      <td>0.0</td>\n",
       "    </tr>\n",
       "  </tbody>\n",
       "</table>\n",
       "</div>"
      ],
      "text/plain": [
       "                id          size        sizekB        sizeMB    num_files  \\\n",
       "count  10444.00000  1.044400e+04  1.044400e+04  10444.000000   633.000000   \n",
       "mean    5222.50000  1.868874e+07  1.825073e+04     17.822562    72.707741   \n",
       "std     3015.06744  7.850618e+08  7.666620e+05    748.693384   501.356853   \n",
       "min        1.00000  0.000000e+00  0.000000e+00      0.000000     0.000000   \n",
       "25%     2611.75000  1.083000e+03  1.060000e+00      0.000000     2.000000   \n",
       "50%     5222.50000  3.196000e+03  3.120000e+00      0.000000     9.000000   \n",
       "75%     7833.25000  3.114400e+04  3.041000e+01      0.030000    31.000000   \n",
       "max    10444.00000  7.120497e+10  6.953610e+07  67906.350000  9811.000000   \n",
       "\n",
       "              depth        parent      uid  \n",
       "count  10444.000000  10444.000000  10444.0  \n",
       "mean       3.690636   4958.769245      0.0  \n",
       "std        1.509885   3143.742944      0.0  \n",
       "min        0.000000      0.000000      0.0  \n",
       "25%        3.000000   2208.000000      0.0  \n",
       "50%        4.000000   5106.000000      0.0  \n",
       "75%        4.000000   7650.000000      0.0  \n",
       "max        7.000000  10298.000000      0.0  "
      ]
     },
     "execution_count": 4,
     "metadata": {},
     "output_type": "execute_result"
    }
   ],
   "source": [
    "df.describe()"
   ]
  },
  {
   "cell_type": "markdown",
   "metadata": {},
   "source": [
    "I will refine the dataset by excluding folders, subfolders and their content. Assuming that most are extracted archives"
   ]
  },
  {
   "cell_type": "code",
   "execution_count": 5,
   "metadata": {},
   "outputs": [
    {
     "data": {
      "text/html": [
       "<div>\n",
       "<style scoped>\n",
       "    .dataframe tbody tr th:only-of-type {\n",
       "        vertical-align: middle;\n",
       "    }\n",
       "\n",
       "    .dataframe tbody tr th {\n",
       "        vertical-align: top;\n",
       "    }\n",
       "\n",
       "    .dataframe thead th {\n",
       "        text-align: right;\n",
       "    }\n",
       "</style>\n",
       "<table border=\"1\" class=\"dataframe\">\n",
       "  <thead>\n",
       "    <tr style=\"text-align: right;\">\n",
       "      <th></th>\n",
       "      <th>id</th>\n",
       "      <th>path</th>\n",
       "      <th>name</th>\n",
       "      <th>extension</th>\n",
       "      <th>size</th>\n",
       "      <th>sizekB</th>\n",
       "      <th>sizeMB</th>\n",
       "      <th>atime</th>\n",
       "      <th>mtime</th>\n",
       "      <th>ctime</th>\n",
       "      <th>notAcc_since_dl</th>\n",
       "      <th>folder</th>\n",
       "      <th>num_files</th>\n",
       "      <th>depth</th>\n",
       "      <th>parent</th>\n",
       "      <th>uid</th>\n",
       "    </tr>\n",
       "  </thead>\n",
       "  <tbody>\n",
       "    <tr>\n",
       "      <th>4560</th>\n",
       "      <td>4562</td>\n",
       "      <td>C:\\Users\\Seb\\Downloads\\PhotoshopBIBEL012017.zip</td>\n",
       "      <td>PhotoshopBIBEL012017</td>\n",
       "      <td>zip</td>\n",
       "      <td>3587992092</td>\n",
       "      <td>3503898.53</td>\n",
       "      <td>3421.78</td>\n",
       "      <td>2018-01-06</td>\n",
       "      <td>2018-01-06</td>\n",
       "      <td>2018-01-06</td>\n",
       "      <td>True</td>\n",
       "      <td>False</td>\n",
       "      <td>NaN</td>\n",
       "      <td>0</td>\n",
       "      <td>1</td>\n",
       "      <td>0</td>\n",
       "    </tr>\n",
       "    <tr>\n",
       "      <th>10380</th>\n",
       "      <td>10382</td>\n",
       "      <td>C:\\Users\\Seb\\Downloads\\ubuntu-20.04-desktop-am...</td>\n",
       "      <td>ubuntu-20.04-desktop-amd64</td>\n",
       "      <td>iso</td>\n",
       "      <td>2715254784</td>\n",
       "      <td>2651616.00</td>\n",
       "      <td>2589.47</td>\n",
       "      <td>2020-05-09</td>\n",
       "      <td>2020-05-09</td>\n",
       "      <td>2020-05-09</td>\n",
       "      <td>True</td>\n",
       "      <td>False</td>\n",
       "      <td>NaN</td>\n",
       "      <td>0</td>\n",
       "      <td>1</td>\n",
       "      <td>0</td>\n",
       "    </tr>\n",
       "    <tr>\n",
       "      <th>4340</th>\n",
       "      <td>4342</td>\n",
       "      <td>C:\\Users\\Seb\\Downloads\\kicad-5.1.5_3-x86_64.exe</td>\n",
       "      <td>kicad-5.1.5_3-x86_64</td>\n",
       "      <td>exe</td>\n",
       "      <td>1213081256</td>\n",
       "      <td>1184649.66</td>\n",
       "      <td>1156.88</td>\n",
       "      <td>2020-03-06</td>\n",
       "      <td>2020-03-06</td>\n",
       "      <td>2020-03-06</td>\n",
       "      <td>True</td>\n",
       "      <td>False</td>\n",
       "      <td>NaN</td>\n",
       "      <td>0</td>\n",
       "      <td>1</td>\n",
       "      <td>0</td>\n",
       "    </tr>\n",
       "    <tr>\n",
       "      <th>4574</th>\n",
       "      <td>4576</td>\n",
       "      <td>C:\\Users\\Seb\\Downloads\\PP14_Pro_BEFIGSD_Trial.exe</td>\n",
       "      <td>PP14_Pro_BEFIGSD_Trial</td>\n",
       "      <td>exe</td>\n",
       "      <td>703899496</td>\n",
       "      <td>687401.85</td>\n",
       "      <td>671.29</td>\n",
       "      <td>2018-08-27</td>\n",
       "      <td>2018-08-27</td>\n",
       "      <td>2018-08-27</td>\n",
       "      <td>True</td>\n",
       "      <td>False</td>\n",
       "      <td>NaN</td>\n",
       "      <td>0</td>\n",
       "      <td>1</td>\n",
       "      <td>0</td>\n",
       "    </tr>\n",
       "    <tr>\n",
       "      <th>4577</th>\n",
       "      <td>4579</td>\n",
       "      <td>C:\\Users\\Seb\\Downloads\\prisonerofourthoughts_a...</td>\n",
       "      <td>prisonerofourthoughts_audiobook-mp3</td>\n",
       "      <td>zip</td>\n",
       "      <td>696516857</td>\n",
       "      <td>680192.24</td>\n",
       "      <td>664.25</td>\n",
       "      <td>2020-04-18</td>\n",
       "      <td>2020-04-18</td>\n",
       "      <td>2020-04-18</td>\n",
       "      <td>True</td>\n",
       "      <td>False</td>\n",
       "      <td>NaN</td>\n",
       "      <td>0</td>\n",
       "      <td>1</td>\n",
       "      <td>0</td>\n",
       "    </tr>\n",
       "  </tbody>\n",
       "</table>\n",
       "</div>"
      ],
      "text/plain": [
       "          id                                               path  \\\n",
       "4560    4562    C:\\Users\\Seb\\Downloads\\PhotoshopBIBEL012017.zip   \n",
       "10380  10382  C:\\Users\\Seb\\Downloads\\ubuntu-20.04-desktop-am...   \n",
       "4340    4342    C:\\Users\\Seb\\Downloads\\kicad-5.1.5_3-x86_64.exe   \n",
       "4574    4576  C:\\Users\\Seb\\Downloads\\PP14_Pro_BEFIGSD_Trial.exe   \n",
       "4577    4579  C:\\Users\\Seb\\Downloads\\prisonerofourthoughts_a...   \n",
       "\n",
       "                                      name extension        size      sizekB  \\\n",
       "4560                  PhotoshopBIBEL012017       zip  3587992092  3503898.53   \n",
       "10380           ubuntu-20.04-desktop-amd64       iso  2715254784  2651616.00   \n",
       "4340                  kicad-5.1.5_3-x86_64       exe  1213081256  1184649.66   \n",
       "4574                PP14_Pro_BEFIGSD_Trial       exe   703899496   687401.85   \n",
       "4577   prisonerofourthoughts_audiobook-mp3       zip   696516857   680192.24   \n",
       "\n",
       "        sizeMB       atime       mtime       ctime  notAcc_since_dl  folder  \\\n",
       "4560   3421.78  2018-01-06  2018-01-06  2018-01-06             True   False   \n",
       "10380  2589.47  2020-05-09  2020-05-09  2020-05-09             True   False   \n",
       "4340   1156.88  2020-03-06  2020-03-06  2020-03-06             True   False   \n",
       "4574    671.29  2018-08-27  2018-08-27  2018-08-27             True   False   \n",
       "4577    664.25  2020-04-18  2020-04-18  2020-04-18             True   False   \n",
       "\n",
       "       num_files  depth  parent  uid  \n",
       "4560         NaN      0       1    0  \n",
       "10380        NaN      0       1    0  \n",
       "4340         NaN      0       1    0  \n",
       "4574         NaN      0       1    0  \n",
       "4577         NaN      0       1    0  "
      ]
     },
     "execution_count": 5,
     "metadata": {},
     "output_type": "execute_result"
    }
   ],
   "source": [
    "df = df[(df.depth == 0) & (df.folder == False)]\n",
    "df.sort_values('size', ascending=False).head()"
   ]
  },
  {
   "cell_type": "code",
   "execution_count": 6,
   "metadata": {},
   "outputs": [
    {
     "data": {
      "text/plain": [
       "True     651\n",
       "False      3\n",
       "Name: notAcc_since_dl, dtype: int64"
      ]
     },
     "execution_count": 6,
     "metadata": {},
     "output_type": "execute_result"
    }
   ],
   "source": [
    "#How many Files have not been accessed since download day?\n",
    "df.notAcc_since_dl.value_counts()"
   ]
  },
  {
   "cell_type": "markdown",
   "metadata": {},
   "source": [
    "This confirms that nearly all files are downloaded then accessed the same day and not accessed anymore afterwards."
   ]
  },
  {
   "cell_type": "code",
   "execution_count": 7,
   "metadata": {},
   "outputs": [
    {
     "name": "stdout",
     "output_type": "stream",
     "text": [
      "pdf     188\n",
      "exe     110\n",
      "zip      96\n",
      "jpg      42\n",
      "ppk      21\n",
      "xlsx     20\n",
      "docx     20\n",
      "epub     18\n",
      "svg      15\n",
      "stl      12\n",
      "Name: extension, dtype: int64\n"
     ]
    }
   ],
   "source": [
    "#Overview of top filetypes\n",
    "filetypes=df[\"extension\"].value_counts()[:10]\n",
    "print(filetypes)"
   ]
  },
  {
   "cell_type": "code",
   "execution_count": 8,
   "metadata": {},
   "outputs": [
    {
     "data": {
      "image/png": "[encoded data removed]",
      "text/plain": [
       "<Figure size 432x288 with 1 Axes>"
      ]
     },
     "metadata": {},
     "output_type": "display_data"
    }
   ],
   "source": [
    "import matplotlib.pyplot as plt\n",
    "\n",
    "with plt.style.context('ggplot'):\n",
    "    df['extension'].value_counts()[:10].plot(\n",
    "        kind='bar', color='C1', title='Top 10 file types by Count');"
   ]
  },
  {
   "cell_type": "markdown",
   "metadata": {},
   "source": [
    "* At first look there are a lot of .pdf documents, small files with information that might be relevant later and that I would like to keep, I will need to class them so that I can find relevant information when needed. \n",
    "* The second highest number is .exe files which will be mostly installers that are probably obsolete now and very likely can just be deleted. \n",
    "* On 3rd place rank archives which could contain anything."
   ]
  },
  {
   "cell_type": "code",
   "execution_count": 9,
   "metadata": {},
   "outputs": [
    {
     "data": {
      "image/png": "[encoded data removed]",
      "text/plain": [
       "<Figure size 432x288 with 1 Axes>"
      ]
     },
     "metadata": {},
     "output_type": "display_data"
    }
   ],
   "source": [
    "with plt.style.context('ggplot'):\n",
    "    # Group by extension and sum all sizes for each extension \n",
    "    extension_sizes = df.groupby('extension')['sizeMB'].sum()[:10]\n",
    "    # Sort elements by size\n",
    "    extension_sizes = extension_sizes.sort_values(ascending=False)\n",
    "    \n",
    "    extension_sizes.plot(\n",
    "        kind='bar', color='C1', title='Top 10 file types by Size');"
   ]
  },
  {
   "cell_type": "markdown",
   "metadata": {},
   "source": [
    "By size the archives are the main chunk with over 1gb, also appearing a small number of Access databases is taking up space."
   ]
  },
  {
   "cell_type": "code",
   "execution_count": 10,
   "metadata": {},
   "outputs": [
    {
     "data": {
      "image/png": "[encoded data removed]",
      "text/plain": [
       "<Figure size 432x288 with 1 Axes>"
      ]
     },
     "metadata": {
      "needs_background": "light"
     },
     "output_type": "display_data"
    }
   ],
   "source": [
    "import squarify\n",
    "\n",
    "# Group by extension and sum all sizes for each extension\n",
    "extension_sizes = df.groupby('extension')['size'].sum()\n",
    "# Sort elements by size\n",
    "extension_sizes = extension_sizes.sort_values(ascending=False)\n",
    "# Group by extension, count\n",
    "extension_count = df['extension'].value_counts()\n",
    "\n",
    "squarify.plot(sizes=extension_count.values, label=extension_count.index.values)\n",
    "plt.title('Filetypes Treemap by Count')\n",
    "plt.axis('off');\n",
    "\n"
   ]
  },
  {
   "cell_type": "code",
   "execution_count": 11,
   "metadata": {},
   "outputs": [
    {
     "data": {
      "image/png": "[encoded data removed]",
      "text/plain": [
       "<Figure size 432x288 with 1 Axes>"
      ]
     },
     "metadata": {
      "needs_background": "light"
     },
     "output_type": "display_data"
    }
   ],
   "source": [
    "squarify.plot(sizes=extension_sizes.values, label=extension_sizes.index.values)\n",
    "plt.title('Filetypes Treemap by Size')\n",
    "plt.axis('off');"
   ]
  },
  {
   "cell_type": "markdown",
   "metadata": {},
   "source": [
    "***\n",
    "## Conclusions\n",
    "There are two scenarios for files in the downloads folder:\n",
    "* Single use files, which are downloaded then used once and just stay in folder afterwards. Biggest example of this are the .exe files which are both numerous and account for a significant portion of diskspace.\n",
    "* Files that could be useful in the future but that I just do not give a new home on my drive. Large .iso files and the numerous .pdf files could quickly find a place in my \"Documents\" folder. \n",
    "\n",
    "## Hypotheses\n",
    "* For the archives (.zip; .7z; .rar) a quick glance at the filename should help identify if it is an installation that can be deleted or actual files. Proposing a handful of those for review from time to time would help organize them into the documents folder without being overwhelming.\n",
    "* Most of the executables are installers, and even in the rare case of a portable application: if it has not been used more than once we can easily download it again if needed. I suggest we regularly just delete all .exe in the download folder. Maybe give a quick warning befor with how many files we are going to delete.\n",
    "* The next type of file that is strongly represented in my downloads are pdf files, they are not heavy but numerous. I should decide if it is worth the effort to go over them to delete the useless, or if I can live with just throwing them in my document management system where they will be indexed. The latter could be automatized easily. \n",
    "\n",
    "## Next Steps\n",
    "Now the actual automation script I want to get to should do a number of things:\n",
    "* count all the .exe and .msi files, display a message informing those will be deleted and wait for user confirmation, then delete all .exe in the Download folder (not in subfolders).\n",
    "* copy all .pdf files ondo the DMS and then delete them from the Download folder.\n",
    "* propose a selection of files, maybe 2 archives and 2 to 3 \"others\", with direct filepath so I can open the file to check and eventually save it elsewhere. After user confirmation the files should be deleted from the Downloads directory."
   ]
  },
  {
   "cell_type": "code",
   "execution_count": null,
   "metadata": {},
   "outputs": [],
   "source": []
  }
 ],
 "metadata": {
  "kernelspec": {
   "display_name": "Python 3",
   "language": "python",
   "name": "python3"
  },
  "language_info": {
   "codemirror_mode": {
    "name": "ipython",
    "version": 3
   },
   "file_extension": ".py",
   "mimetype": "text/x-python",
   "name": "python",
   "nbconvert_exporter": "python",
   "pygments_lexer": "ipython3",
   "version": "3.7.3"
  }
 },
 "nbformat": 4,
 "nbformat_minor": 4
}
